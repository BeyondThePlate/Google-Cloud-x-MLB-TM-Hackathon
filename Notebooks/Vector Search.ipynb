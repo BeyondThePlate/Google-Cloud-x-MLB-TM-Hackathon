{
  "cells": [
    {
      "cell_type": "code",
      "execution_count": 1,
      "id": "VGASTmgUePUi",
      "metadata": {
        "colab": {
          "base_uri": "https://localhost:8080/"
        },
        "executionInfo": {
          "elapsed": 11472,
          "status": "ok",
          "timestamp": 1738664772131,
          "user": {
            "displayName": "",
            "userId": ""
          },
          "user_tz": -180
        },
        "id": "VGASTmgUePUi",
        "outputId": "e8d2c15a-0e94-4cda-92af-e5f09c5aecea"
      },
      "outputs": [
        {
          "name": "stdout",
          "output_type": "stream",
          "text": [
            "\u001b[?25l   \u001b[90m━━━━━━━━━━━━━━━━━━━━━━━━━━━━━━━━━━━━━━━━\u001b[0m \u001b[32m0.0/7.1 MB\u001b[0m \u001b[31m?\u001b[0m eta \u001b[36m-:--:--\u001b[0m\r\u001b[2K   \u001b[91m━━━\u001b[0m\u001b[90m╺\u001b[0m\u001b[90m━━━━━━━━━━━━━━━━━━━━━━━━━━━━━━━━━━━━\u001b[0m \u001b[32m0.6/7.1 MB\u001b[0m \u001b[31m18.2 MB/s\u001b[0m eta \u001b[36m0:00:01\u001b[0m\r\u001b[2K   \u001b[91m━━━━━━━━━━━━━━━━━━━━━━━\u001b[0m\u001b[90m╺\u001b[0m\u001b[90m━━━━━━━━━━━━━━━━\u001b[0m \u001b[32m4.1/7.1 MB\u001b[0m \u001b[31m59.6 MB/s\u001b[0m eta \u001b[36m0:00:01\u001b[0m\r\u001b[2K   \u001b[91m━━━━━━━━━━━━━━━━━━━━━━━━━━━━━━━━━━━━━━━\u001b[0m\u001b[91m╸\u001b[0m \u001b[32m7.1/7.1 MB\u001b[0m \u001b[31m80.9 MB/s\u001b[0m eta \u001b[36m0:00:01\u001b[0m\r\u001b[2K   \u001b[90m━━━━━━━━━━━━━━━━━━━━━━━━━━━━━━━━━━━━━━━━\u001b[0m \u001b[32m7.1/7.1 MB\u001b[0m \u001b[31m62.7 MB/s\u001b[0m eta \u001b[36m0:00:00\u001b[0m\n",
            "\u001b[?25h\u001b[33m  WARNING: The script tb-gcp-uploader is installed in '/root/.local/bin' which is not on PATH.\n",
            "  Consider adding this directory to PATH or, if you prefer to suppress this warning, use --no-warn-script-location.\u001b[0m\u001b[33m\n",
            "\u001b[0m"
          ]
        }
      ],
      "source": [
        "!pip install --upgrade --user --quiet google-cloud-aiplatform google-cloud-storage\n"
      ]
    },
    {
      "cell_type": "code",
      "execution_count": 2,
      "id": "bsbkf4vs09LCWtkoPKmzaQV1",
      "metadata": {
        "executionInfo": {
          "elapsed": 11914,
          "status": "ok",
          "timestamp": 1738664794703,
          "user": {
            "displayName": "",
            "userId": ""
          },
          "user_tz": -180
        },
        "id": "bsbkf4vs09LCWtkoPKmzaQV1",
        "tags": []
      },
      "outputs": [],
      "source": [
        "import pandas as pd\n",
        "import vertexai\n",
        "import tqdm\n",
        "import time\n",
        "from vertexai.preview.language_models import TextEmbeddingModel\n",
        "from google.cloud import storage, aiplatform"
      ]
    },
    {
      "cell_type": "code",
      "execution_count": 3,
      "id": "gJ-8YA-qXQM-",
      "metadata": {
        "executionInfo": {
          "elapsed": 10,
          "status": "ok",
          "timestamp": 1738664794705,
          "user": {
            "displayName": "",
            "userId": ""
          },
          "user_tz": -180
        },
        "id": "gJ-8YA-qXQM-"
      },
      "outputs": [],
      "source": [
        "data_frame = pd.read_csv('/content/dataResults.csv')"
      ]
    },
    {
      "cell_type": "code",
      "execution_count": 4,
      "id": "lJHQ6CDMYClH",
      "metadata": {
        "executionInfo": {
          "elapsed": 10,
          "status": "ok",
          "timestamp": 1738664794706,
          "user": {
            "displayName": "",
            "userId": ""
          },
          "user_tz": -180
        },
        "id": "lJHQ6CDMYClH"
      },
      "outputs": [],
      "source": [
        "data_frame['id'] = range(1, len(data_frame) + 1)"
      ]
    },
    {
      "cell_type": "code",
      "execution_count": 5,
      "id": "F5yXT4uqXXDD",
      "metadata": {
        "colab": {
          "base_uri": "https://localhost:8080/",
          "height": 553
        },
        "executionInfo": {
          "elapsed": 10,
          "status": "ok",
          "timestamp": 1738664794706,
          "user": {
            "displayName": "",
            "userId": ""
          },
          "user_tz": -180
        },
        "id": "F5yXT4uqXXDD",
        "outputId": "1e8ca138-ca60-4a88-8f4a-8ed9e52a45d9"
      },
      "outputs": [
        {
          "data": {
            "text/html": [
              "\n",
              "  <div id=\"df-ef04b2ad-9aaf-497f-aa05-bd6b541123a7\" class=\"colab-df-container\">\n",
              "    <div>\n",
              "<style scoped>\n",
              "    .dataframe tbody tr th:only-of-type {\n",
              "        vertical-align: middle;\n",
              "    }\n",
              "\n",
              "    .dataframe tbody tr th {\n",
              "        vertical-align: top;\n",
              "    }\n",
              "\n",
              "    .dataframe thead th {\n",
              "        text-align: right;\n",
              "    }\n",
              "</style>\n",
              "<table border=\"1\" class=\"dataframe\">\n",
              "  <thead>\n",
              "    <tr style=\"text-align: right;\">\n",
              "      <th></th>\n",
              "      <th>video_str</th>\n",
              "      <th>play_id</th>\n",
              "      <th>title</th>\n",
              "      <th>ExitVelocity</th>\n",
              "      <th>HitDistance</th>\n",
              "      <th>LaunchAngle</th>\n",
              "      <th>video</th>\n",
              "      <th>id</th>\n",
              "    </tr>\n",
              "  </thead>\n",
              "  <tbody>\n",
              "    <tr>\n",
              "      <th>0</th>\n",
              "      <td>John Jaso hits a home run for the Pittsburgh P...</td>\n",
              "      <td>5b254850-9e14-48d2-8baf-c3e12ecbe68d</td>\n",
              "      <td>John Jaso homers (6) on a fly ball to center f...</td>\n",
              "      <td>102.9</td>\n",
              "      <td>412.0</td>\n",
              "      <td>25.0</td>\n",
              "      <td>https://sporty-clips.mlb.com/YjlLTlpfWGw0TUFRP...</td>\n",
              "      <td>1</td>\n",
              "    </tr>\n",
              "    <tr>\n",
              "      <th>1</th>\n",
              "      <td>A baseball player pitches the ball to a batter...</td>\n",
              "      <td>0110e760-5d49-4c53-ad29-e74c787c038d</td>\n",
              "      <td>Evan Longoria homers (34) on a fly ball to lef...</td>\n",
              "      <td>103.1</td>\n",
              "      <td>423.0</td>\n",
              "      <td>31.0</td>\n",
              "      <td>https://sporty-clips.mlb.com/OHcxUXlfWGw0TUFRP...</td>\n",
              "      <td>2</td>\n",
              "    </tr>\n",
              "    <tr>\n",
              "      <th>2</th>\n",
              "      <td>Sure, here's the summary of the video:\\n\\nA ba...</td>\n",
              "      <td>3b9ecf94-e3fe-4d79-8b33-efe174dfa53e</td>\n",
              "      <td>Marwin Gonzalez homers (13) on a line drive to...</td>\n",
              "      <td>106.6</td>\n",
              "      <td>390.0</td>\n",
              "      <td>22.0</td>\n",
              "      <td>https://sporty-clips.mlb.com/Mk9vbFBfWGw0TUFRP...</td>\n",
              "      <td>3</td>\n",
              "    </tr>\n",
              "    <tr>\n",
              "      <th>3</th>\n",
              "      <td>The batter hits the ball deep into right field...</td>\n",
              "      <td>bda1cb83-dca9-46b2-aaad-6c1f009cd51c</td>\n",
              "      <td>Eddie Rosario homers (10) on a fly ball to rig...</td>\n",
              "      <td>98.5</td>\n",
              "      <td>368.0</td>\n",
              "      <td>30.0</td>\n",
              "      <td>https://sporty-clips.mlb.com/ajlhWFpfWGw0TUFRP...</td>\n",
              "      <td>4</td>\n",
              "    </tr>\n",
              "    <tr>\n",
              "      <th>4</th>\n",
              "      <td>Darvish throws a pitch to Semien, who hits the...</td>\n",
              "      <td>9f87e907-3c4f-4187-8fb0-d6784b3b1f1a</td>\n",
              "      <td>Marcus Semien homers (26) on a fly ball to lef...</td>\n",
              "      <td>106.0</td>\n",
              "      <td>435.0</td>\n",
              "      <td>32.0</td>\n",
              "      <td>https://sporty-clips.mlb.com/bGUyNEdfWGw0TUFRP...</td>\n",
              "      <td>5</td>\n",
              "    </tr>\n",
              "  </tbody>\n",
              "</table>\n",
              "</div>\n",
              "    <div class=\"colab-df-buttons\">\n",
              "\n",
              "  <div class=\"colab-df-container\">\n",
              "    <button class=\"colab-df-convert\" onclick=\"convertToInteractive('df-ef04b2ad-9aaf-497f-aa05-bd6b541123a7')\"\n",
              "            title=\"Convert this dataframe to an interactive table.\"\n",
              "            style=\"display:none;\">\n",
              "\n",
              "  <svg xmlns=\"http://www.w3.org/2000/svg\" height=\"24px\" viewBox=\"0 -960 960 960\">\n",
              "    <path d=\"M120-120v-720h720v720H120Zm60-500h600v-160H180v160Zm220 220h160v-160H400v160Zm0 220h160v-160H400v160ZM180-400h160v-160H180v160Zm440 0h160v-160H620v160ZM180-180h160v-160H180v160Zm440 0h160v-160H620v160Z\"/>\n",
              "  </svg>\n",
              "    </button>\n",
              "\n",
              "  <style>\n",
              "    .colab-df-container {\n",
              "      display:flex;\n",
              "      gap: 12px;\n",
              "    }\n",
              "\n",
              "    .colab-df-convert {\n",
              "      background-color: #E8F0FE;\n",
              "      border: none;\n",
              "      border-radius: 50%;\n",
              "      cursor: pointer;\n",
              "      display: none;\n",
              "      fill: #1967D2;\n",
              "      height: 32px;\n",
              "      padding: 0 0 0 0;\n",
              "      width: 32px;\n",
              "    }\n",
              "\n",
              "    .colab-df-convert:hover {\n",
              "      background-color: #E2EBFA;\n",
              "      box-shadow: 0px 1px 2px rgba(60, 64, 67, 0.3), 0px 1px 3px 1px rgba(60, 64, 67, 0.15);\n",
              "      fill: #174EA6;\n",
              "    }\n",
              "\n",
              "    .colab-df-buttons div {\n",
              "      margin-bottom: 4px;\n",
              "    }\n",
              "\n",
              "    [theme=dark] .colab-df-convert {\n",
              "      background-color: #3B4455;\n",
              "      fill: #D2E3FC;\n",
              "    }\n",
              "\n",
              "    [theme=dark] .colab-df-convert:hover {\n",
              "      background-color: #434B5C;\n",
              "      box-shadow: 0px 1px 3px 1px rgba(0, 0, 0, 0.15);\n",
              "      filter: drop-shadow(0px 1px 2px rgba(0, 0, 0, 0.3));\n",
              "      fill: #FFFFFF;\n",
              "    }\n",
              "  </style>\n",
              "\n",
              "    <script>\n",
              "      const buttonEl =\n",
              "        document.querySelector('#df-ef04b2ad-9aaf-497f-aa05-bd6b541123a7 button.colab-df-convert');\n",
              "      buttonEl.style.display =\n",
              "        google.colab.kernel.accessAllowed ? 'block' : 'none';\n",
              "\n",
              "      async function convertToInteractive(key) {\n",
              "        const element = document.querySelector('#df-ef04b2ad-9aaf-497f-aa05-bd6b541123a7');\n",
              "        const dataTable =\n",
              "          await google.colab.kernel.invokeFunction('convertToInteractive',\n",
              "                                                    [key], {});\n",
              "        if (!dataTable) return;\n",
              "\n",
              "        const docLinkHtml = 'Like what you see? Visit the ' +\n",
              "          '<a target=\"_blank\" href=https://colab.research.google.com/notebooks/data_table.ipynb>data table notebook</a>'\n",
              "          + ' to learn more about interactive tables.';\n",
              "        element.innerHTML = '';\n",
              "        dataTable['output_type'] = 'display_data';\n",
              "        await google.colab.output.renderOutput(dataTable, element);\n",
              "        const docLink = document.createElement('div');\n",
              "        docLink.innerHTML = docLinkHtml;\n",
              "        element.appendChild(docLink);\n",
              "      }\n",
              "    </script>\n",
              "  </div>\n",
              "\n",
              "\n",
              "<div id=\"df-9f51c38a-1364-4d13-9ac4-39acbfa4af7b\">\n",
              "  <button class=\"colab-df-quickchart\" onclick=\"quickchart('df-9f51c38a-1364-4d13-9ac4-39acbfa4af7b')\"\n",
              "            title=\"Suggest charts\"\n",
              "            style=\"display:none;\">\n",
              "\n",
              "<svg xmlns=\"http://www.w3.org/2000/svg\" height=\"24px\"viewBox=\"0 0 24 24\"\n",
              "     width=\"24px\">\n",
              "    <g>\n",
              "        <path d=\"M19 3H5c-1.1 0-2 .9-2 2v14c0 1.1.9 2 2 2h14c1.1 0 2-.9 2-2V5c0-1.1-.9-2-2-2zM9 17H7v-7h2v7zm4 0h-2V7h2v10zm4 0h-2v-4h2v4z\"/>\n",
              "    </g>\n",
              "</svg>\n",
              "  </button>\n",
              "\n",
              "<style>\n",
              "  .colab-df-quickchart {\n",
              "      --bg-color: #E8F0FE;\n",
              "      --fill-color: #1967D2;\n",
              "      --hover-bg-color: #E2EBFA;\n",
              "      --hover-fill-color: #174EA6;\n",
              "      --disabled-fill-color: #AAA;\n",
              "      --disabled-bg-color: #DDD;\n",
              "  }\n",
              "\n",
              "  [theme=dark] .colab-df-quickchart {\n",
              "      --bg-color: #3B4455;\n",
              "      --fill-color: #D2E3FC;\n",
              "      --hover-bg-color: #434B5C;\n",
              "      --hover-fill-color: #FFFFFF;\n",
              "      --disabled-bg-color: #3B4455;\n",
              "      --disabled-fill-color: #666;\n",
              "  }\n",
              "\n",
              "  .colab-df-quickchart {\n",
              "    background-color: var(--bg-color);\n",
              "    border: none;\n",
              "    border-radius: 50%;\n",
              "    cursor: pointer;\n",
              "    display: none;\n",
              "    fill: var(--fill-color);\n",
              "    height: 32px;\n",
              "    padding: 0;\n",
              "    width: 32px;\n",
              "  }\n",
              "\n",
              "  .colab-df-quickchart:hover {\n",
              "    background-color: var(--hover-bg-color);\n",
              "    box-shadow: 0 1px 2px rgba(60, 64, 67, 0.3), 0 1px 3px 1px rgba(60, 64, 67, 0.15);\n",
              "    fill: var(--button-hover-fill-color);\n",
              "  }\n",
              "\n",
              "  .colab-df-quickchart-complete:disabled,\n",
              "  .colab-df-quickchart-complete:disabled:hover {\n",
              "    background-color: var(--disabled-bg-color);\n",
              "    fill: var(--disabled-fill-color);\n",
              "    box-shadow: none;\n",
              "  }\n",
              "\n",
              "  .colab-df-spinner {\n",
              "    border: 2px solid var(--fill-color);\n",
              "    border-color: transparent;\n",
              "    border-bottom-color: var(--fill-color);\n",
              "    animation:\n",
              "      spin 1s steps(1) infinite;\n",
              "  }\n",
              "\n",
              "  @keyframes spin {\n",
              "    0% {\n",
              "      border-color: transparent;\n",
              "      border-bottom-color: var(--fill-color);\n",
              "      border-left-color: var(--fill-color);\n",
              "    }\n",
              "    20% {\n",
              "      border-color: transparent;\n",
              "      border-left-color: var(--fill-color);\n",
              "      border-top-color: var(--fill-color);\n",
              "    }\n",
              "    30% {\n",
              "      border-color: transparent;\n",
              "      border-left-color: var(--fill-color);\n",
              "      border-top-color: var(--fill-color);\n",
              "      border-right-color: var(--fill-color);\n",
              "    }\n",
              "    40% {\n",
              "      border-color: transparent;\n",
              "      border-right-color: var(--fill-color);\n",
              "      border-top-color: var(--fill-color);\n",
              "    }\n",
              "    60% {\n",
              "      border-color: transparent;\n",
              "      border-right-color: var(--fill-color);\n",
              "    }\n",
              "    80% {\n",
              "      border-color: transparent;\n",
              "      border-right-color: var(--fill-color);\n",
              "      border-bottom-color: var(--fill-color);\n",
              "    }\n",
              "    90% {\n",
              "      border-color: transparent;\n",
              "      border-bottom-color: var(--fill-color);\n",
              "    }\n",
              "  }\n",
              "</style>\n",
              "\n",
              "  <script>\n",
              "    async function quickchart(key) {\n",
              "      const quickchartButtonEl =\n",
              "        document.querySelector('#' + key + ' button');\n",
              "      quickchartButtonEl.disabled = true;  // To prevent multiple clicks.\n",
              "      quickchartButtonEl.classList.add('colab-df-spinner');\n",
              "      try {\n",
              "        const charts = await google.colab.kernel.invokeFunction(\n",
              "            'suggestCharts', [key], {});\n",
              "      } catch (error) {\n",
              "        console.error('Error during call to suggestCharts:', error);\n",
              "      }\n",
              "      quickchartButtonEl.classList.remove('colab-df-spinner');\n",
              "      quickchartButtonEl.classList.add('colab-df-quickchart-complete');\n",
              "    }\n",
              "    (() => {\n",
              "      let quickchartButtonEl =\n",
              "        document.querySelector('#df-9f51c38a-1364-4d13-9ac4-39acbfa4af7b button');\n",
              "      quickchartButtonEl.style.display =\n",
              "        google.colab.kernel.accessAllowed ? 'block' : 'none';\n",
              "    })();\n",
              "  </script>\n",
              "</div>\n",
              "\n",
              "    </div>\n",
              "  </div>\n"
            ],
            "text/plain": [
              "                                           video_str  \\\n",
              "0  John Jaso hits a home run for the Pittsburgh P...   \n",
              "1  A baseball player pitches the ball to a batter...   \n",
              "2  Sure, here's the summary of the video:\\n\\nA ba...   \n",
              "3  The batter hits the ball deep into right field...   \n",
              "4  Darvish throws a pitch to Semien, who hits the...   \n",
              "\n",
              "                                play_id  \\\n",
              "0  5b254850-9e14-48d2-8baf-c3e12ecbe68d   \n",
              "1  0110e760-5d49-4c53-ad29-e74c787c038d   \n",
              "2  3b9ecf94-e3fe-4d79-8b33-efe174dfa53e   \n",
              "3  bda1cb83-dca9-46b2-aaad-6c1f009cd51c   \n",
              "4  9f87e907-3c4f-4187-8fb0-d6784b3b1f1a   \n",
              "\n",
              "                                               title  ExitVelocity  \\\n",
              "0  John Jaso homers (6) on a fly ball to center f...         102.9   \n",
              "1  Evan Longoria homers (34) on a fly ball to lef...         103.1   \n",
              "2  Marwin Gonzalez homers (13) on a line drive to...         106.6   \n",
              "3  Eddie Rosario homers (10) on a fly ball to rig...          98.5   \n",
              "4  Marcus Semien homers (26) on a fly ball to lef...         106.0   \n",
              "\n",
              "   HitDistance  LaunchAngle  \\\n",
              "0        412.0         25.0   \n",
              "1        423.0         31.0   \n",
              "2        390.0         22.0   \n",
              "3        368.0         30.0   \n",
              "4        435.0         32.0   \n",
              "\n",
              "                                               video  id  \n",
              "0  https://sporty-clips.mlb.com/YjlLTlpfWGw0TUFRP...   1  \n",
              "1  https://sporty-clips.mlb.com/OHcxUXlfWGw0TUFRP...   2  \n",
              "2  https://sporty-clips.mlb.com/Mk9vbFBfWGw0TUFRP...   3  \n",
              "3  https://sporty-clips.mlb.com/ajlhWFpfWGw0TUFRP...   4  \n",
              "4  https://sporty-clips.mlb.com/bGUyNEdfWGw0TUFRP...   5  "
            ]
          },
          "execution_count": 5,
          "metadata": {},
          "output_type": "execute_result"
        }
      ],
      "source": [
        "data_frame.head()"
      ]
    },
    {
      "cell_type": "code",
      "execution_count": 6,
      "id": "fY4DYzaDY30D",
      "metadata": {
        "executionInfo": {
          "elapsed": 989,
          "status": "ok",
          "timestamp": 1738664800346,
          "user": {
            "displayName": "",
            "userId": ""
          },
          "user_tz": -180
        },
        "id": "fY4DYzaDY30D"
      },
      "outputs": [],
      "source": [
        "model = TextEmbeddingModel.from_pretrained(\"text-embedding-005\")"
      ]
    },
    {
      "cell_type": "code",
      "execution_count": 7,
      "id": "pUzrgdEnYir9",
      "metadata": {
        "colab": {
          "base_uri": "https://localhost:8080/"
        },
        "executionInfo": {
          "elapsed": 243430,
          "status": "ok",
          "timestamp": 1738665047356,
          "user": {
            "displayName": "",
            "userId": ""
          },
          "user_tz": -180
        },
        "id": "pUzrgdEnYir9",
        "outputId": "46a9efd3-899d-4d7e-cf0b-fb87a359bacf"
      },
      "outputs": [
        {
          "name": "stderr",
          "output_type": "stream",
          "text": [
            "100%|██████████| 20/20 [04:02<00:00, 12.14s/it]\n"
          ]
        }
      ],
      "source": [
        "def get_embeddings_wrapper(texts, batch_size=5):\n",
        "    embeddings = []\n",
        "    for i in tqdm.tqdm(range(0, len(texts), batch_size)):\n",
        "        time.sleep(12)\n",
        "        batch_texts = texts[i:i+batch_size]\n",
        "        batch_embeddings = model.get_embeddings(batch_texts)\n",
        "        embeddings.extend([embedding.values for embedding in batch_embeddings])\n",
        "    return embeddings\n",
        "\n",
        "combined_texts = data_frame['video_str'].tolist()\n",
        "data_frame['embedding'] = get_embeddings_wrapper(combined_texts)\n"
      ]
    },
    {
      "cell_type": "code",
      "execution_count": 8,
      "id": "TT92aK-HZJ1q",
      "metadata": {
        "colab": {
          "base_uri": "https://localhost:8080/",
          "height": 660
        },
        "executionInfo": {
          "elapsed": 1077,
          "status": "ok",
          "timestamp": 1738665051021,
          "user": {
            "displayName": "",
            "userId": ""
          },
          "user_tz": -180
        },
        "id": "TT92aK-HZJ1q",
        "outputId": "d12d711a-ecad-49fc-b2eb-60d24f8e6da5"
      },
      "outputs": [
        {
          "data": {
            "text/html": [
              "\n",
              "  <div id=\"df-701d6a12-c802-4fd9-bbfb-f71135187e87\" class=\"colab-df-container\">\n",
              "    <div>\n",
              "<style scoped>\n",
              "    .dataframe tbody tr th:only-of-type {\n",
              "        vertical-align: middle;\n",
              "    }\n",
              "\n",
              "    .dataframe tbody tr th {\n",
              "        vertical-align: top;\n",
              "    }\n",
              "\n",
              "    .dataframe thead th {\n",
              "        text-align: right;\n",
              "    }\n",
              "</style>\n",
              "<table border=\"1\" class=\"dataframe\">\n",
              "  <thead>\n",
              "    <tr style=\"text-align: right;\">\n",
              "      <th></th>\n",
              "      <th>video_str</th>\n",
              "      <th>play_id</th>\n",
              "      <th>title</th>\n",
              "      <th>ExitVelocity</th>\n",
              "      <th>HitDistance</th>\n",
              "      <th>LaunchAngle</th>\n",
              "      <th>video</th>\n",
              "      <th>id</th>\n",
              "      <th>embedding</th>\n",
              "    </tr>\n",
              "  </thead>\n",
              "  <tbody>\n",
              "    <tr>\n",
              "      <th>0</th>\n",
              "      <td>John Jaso hits a home run for the Pittsburgh P...</td>\n",
              "      <td>5b254850-9e14-48d2-8baf-c3e12ecbe68d</td>\n",
              "      <td>John Jaso homers (6) on a fly ball to center f...</td>\n",
              "      <td>102.9</td>\n",
              "      <td>412.0</td>\n",
              "      <td>25.0</td>\n",
              "      <td>https://sporty-clips.mlb.com/YjlLTlpfWGw0TUFRP...</td>\n",
              "      <td>1</td>\n",
              "      <td>[-0.012194664217531681, 0.1299474686384201, 0....</td>\n",
              "    </tr>\n",
              "    <tr>\n",
              "      <th>1</th>\n",
              "      <td>A baseball player pitches the ball to a batter...</td>\n",
              "      <td>0110e760-5d49-4c53-ad29-e74c787c038d</td>\n",
              "      <td>Evan Longoria homers (34) on a fly ball to lef...</td>\n",
              "      <td>103.1</td>\n",
              "      <td>423.0</td>\n",
              "      <td>31.0</td>\n",
              "      <td>https://sporty-clips.mlb.com/OHcxUXlfWGw0TUFRP...</td>\n",
              "      <td>2</td>\n",
              "      <td>[-0.010519739240407944, 0.12226243317127228, -...</td>\n",
              "    </tr>\n",
              "    <tr>\n",
              "      <th>2</th>\n",
              "      <td>Sure, here's the summary of the video:\\n\\nA ba...</td>\n",
              "      <td>3b9ecf94-e3fe-4d79-8b33-efe174dfa53e</td>\n",
              "      <td>Marwin Gonzalez homers (13) on a line drive to...</td>\n",
              "      <td>106.6</td>\n",
              "      <td>390.0</td>\n",
              "      <td>22.0</td>\n",
              "      <td>https://sporty-clips.mlb.com/Mk9vbFBfWGw0TUFRP...</td>\n",
              "      <td>3</td>\n",
              "      <td>[0.0008175185066647828, 0.06740811467170715, 0...</td>\n",
              "    </tr>\n",
              "    <tr>\n",
              "      <th>3</th>\n",
              "      <td>The batter hits the ball deep into right field...</td>\n",
              "      <td>bda1cb83-dca9-46b2-aaad-6c1f009cd51c</td>\n",
              "      <td>Eddie Rosario homers (10) on a fly ball to rig...</td>\n",
              "      <td>98.5</td>\n",
              "      <td>368.0</td>\n",
              "      <td>30.0</td>\n",
              "      <td>https://sporty-clips.mlb.com/ajlhWFpfWGw0TUFRP...</td>\n",
              "      <td>4</td>\n",
              "      <td>[-0.014278078451752663, 0.09671445190906525, -...</td>\n",
              "    </tr>\n",
              "    <tr>\n",
              "      <th>4</th>\n",
              "      <td>Darvish throws a pitch to Semien, who hits the...</td>\n",
              "      <td>9f87e907-3c4f-4187-8fb0-d6784b3b1f1a</td>\n",
              "      <td>Marcus Semien homers (26) on a fly ball to lef...</td>\n",
              "      <td>106.0</td>\n",
              "      <td>435.0</td>\n",
              "      <td>32.0</td>\n",
              "      <td>https://sporty-clips.mlb.com/bGUyNEdfWGw0TUFRP...</td>\n",
              "      <td>5</td>\n",
              "      <td>[0.02905752696096897, 0.04107468202710152, -0....</td>\n",
              "    </tr>\n",
              "  </tbody>\n",
              "</table>\n",
              "</div>\n",
              "    <div class=\"colab-df-buttons\">\n",
              "\n",
              "  <div class=\"colab-df-container\">\n",
              "    <button class=\"colab-df-convert\" onclick=\"convertToInteractive('df-701d6a12-c802-4fd9-bbfb-f71135187e87')\"\n",
              "            title=\"Convert this dataframe to an interactive table.\"\n",
              "            style=\"display:none;\">\n",
              "\n",
              "  <svg xmlns=\"http://www.w3.org/2000/svg\" height=\"24px\" viewBox=\"0 -960 960 960\">\n",
              "    <path d=\"M120-120v-720h720v720H120Zm60-500h600v-160H180v160Zm220 220h160v-160H400v160Zm0 220h160v-160H400v160ZM180-400h160v-160H180v160Zm440 0h160v-160H620v160ZM180-180h160v-160H180v160Zm440 0h160v-160H620v160Z\"/>\n",
              "  </svg>\n",
              "    </button>\n",
              "\n",
              "  <style>\n",
              "    .colab-df-container {\n",
              "      display:flex;\n",
              "      gap: 12px;\n",
              "    }\n",
              "\n",
              "    .colab-df-convert {\n",
              "      background-color: #E8F0FE;\n",
              "      border: none;\n",
              "      border-radius: 50%;\n",
              "      cursor: pointer;\n",
              "      display: none;\n",
              "      fill: #1967D2;\n",
              "      height: 32px;\n",
              "      padding: 0 0 0 0;\n",
              "      width: 32px;\n",
              "    }\n",
              "\n",
              "    .colab-df-convert:hover {\n",
              "      background-color: #E2EBFA;\n",
              "      box-shadow: 0px 1px 2px rgba(60, 64, 67, 0.3), 0px 1px 3px 1px rgba(60, 64, 67, 0.15);\n",
              "      fill: #174EA6;\n",
              "    }\n",
              "\n",
              "    .colab-df-buttons div {\n",
              "      margin-bottom: 4px;\n",
              "    }\n",
              "\n",
              "    [theme=dark] .colab-df-convert {\n",
              "      background-color: #3B4455;\n",
              "      fill: #D2E3FC;\n",
              "    }\n",
              "\n",
              "    [theme=dark] .colab-df-convert:hover {\n",
              "      background-color: #434B5C;\n",
              "      box-shadow: 0px 1px 3px 1px rgba(0, 0, 0, 0.15);\n",
              "      filter: drop-shadow(0px 1px 2px rgba(0, 0, 0, 0.3));\n",
              "      fill: #FFFFFF;\n",
              "    }\n",
              "  </style>\n",
              "\n",
              "    <script>\n",
              "      const buttonEl =\n",
              "        document.querySelector('#df-701d6a12-c802-4fd9-bbfb-f71135187e87 button.colab-df-convert');\n",
              "      buttonEl.style.display =\n",
              "        google.colab.kernel.accessAllowed ? 'block' : 'none';\n",
              "\n",
              "      async function convertToInteractive(key) {\n",
              "        const element = document.querySelector('#df-701d6a12-c802-4fd9-bbfb-f71135187e87');\n",
              "        const dataTable =\n",
              "          await google.colab.kernel.invokeFunction('convertToInteractive',\n",
              "                                                    [key], {});\n",
              "        if (!dataTable) return;\n",
              "\n",
              "        const docLinkHtml = 'Like what you see? Visit the ' +\n",
              "          '<a target=\"_blank\" href=https://colab.research.google.com/notebooks/data_table.ipynb>data table notebook</a>'\n",
              "          + ' to learn more about interactive tables.';\n",
              "        element.innerHTML = '';\n",
              "        dataTable['output_type'] = 'display_data';\n",
              "        await google.colab.output.renderOutput(dataTable, element);\n",
              "        const docLink = document.createElement('div');\n",
              "        docLink.innerHTML = docLinkHtml;\n",
              "        element.appendChild(docLink);\n",
              "      }\n",
              "    </script>\n",
              "  </div>\n",
              "\n",
              "\n",
              "<div id=\"df-65affb4b-3808-4b7e-bf98-f33a5d355b9d\">\n",
              "  <button class=\"colab-df-quickchart\" onclick=\"quickchart('df-65affb4b-3808-4b7e-bf98-f33a5d355b9d')\"\n",
              "            title=\"Suggest charts\"\n",
              "            style=\"display:none;\">\n",
              "\n",
              "<svg xmlns=\"http://www.w3.org/2000/svg\" height=\"24px\"viewBox=\"0 0 24 24\"\n",
              "     width=\"24px\">\n",
              "    <g>\n",
              "        <path d=\"M19 3H5c-1.1 0-2 .9-2 2v14c0 1.1.9 2 2 2h14c1.1 0 2-.9 2-2V5c0-1.1-.9-2-2-2zM9 17H7v-7h2v7zm4 0h-2V7h2v10zm4 0h-2v-4h2v4z\"/>\n",
              "    </g>\n",
              "</svg>\n",
              "  </button>\n",
              "\n",
              "<style>\n",
              "  .colab-df-quickchart {\n",
              "      --bg-color: #E8F0FE;\n",
              "      --fill-color: #1967D2;\n",
              "      --hover-bg-color: #E2EBFA;\n",
              "      --hover-fill-color: #174EA6;\n",
              "      --disabled-fill-color: #AAA;\n",
              "      --disabled-bg-color: #DDD;\n",
              "  }\n",
              "\n",
              "  [theme=dark] .colab-df-quickchart {\n",
              "      --bg-color: #3B4455;\n",
              "      --fill-color: #D2E3FC;\n",
              "      --hover-bg-color: #434B5C;\n",
              "      --hover-fill-color: #FFFFFF;\n",
              "      --disabled-bg-color: #3B4455;\n",
              "      --disabled-fill-color: #666;\n",
              "  }\n",
              "\n",
              "  .colab-df-quickchart {\n",
              "    background-color: var(--bg-color);\n",
              "    border: none;\n",
              "    border-radius: 50%;\n",
              "    cursor: pointer;\n",
              "    display: none;\n",
              "    fill: var(--fill-color);\n",
              "    height: 32px;\n",
              "    padding: 0;\n",
              "    width: 32px;\n",
              "  }\n",
              "\n",
              "  .colab-df-quickchart:hover {\n",
              "    background-color: var(--hover-bg-color);\n",
              "    box-shadow: 0 1px 2px rgba(60, 64, 67, 0.3), 0 1px 3px 1px rgba(60, 64, 67, 0.15);\n",
              "    fill: var(--button-hover-fill-color);\n",
              "  }\n",
              "\n",
              "  .colab-df-quickchart-complete:disabled,\n",
              "  .colab-df-quickchart-complete:disabled:hover {\n",
              "    background-color: var(--disabled-bg-color);\n",
              "    fill: var(--disabled-fill-color);\n",
              "    box-shadow: none;\n",
              "  }\n",
              "\n",
              "  .colab-df-spinner {\n",
              "    border: 2px solid var(--fill-color);\n",
              "    border-color: transparent;\n",
              "    border-bottom-color: var(--fill-color);\n",
              "    animation:\n",
              "      spin 1s steps(1) infinite;\n",
              "  }\n",
              "\n",
              "  @keyframes spin {\n",
              "    0% {\n",
              "      border-color: transparent;\n",
              "      border-bottom-color: var(--fill-color);\n",
              "      border-left-color: var(--fill-color);\n",
              "    }\n",
              "    20% {\n",
              "      border-color: transparent;\n",
              "      border-left-color: var(--fill-color);\n",
              "      border-top-color: var(--fill-color);\n",
              "    }\n",
              "    30% {\n",
              "      border-color: transparent;\n",
              "      border-left-color: var(--fill-color);\n",
              "      border-top-color: var(--fill-color);\n",
              "      border-right-color: var(--fill-color);\n",
              "    }\n",
              "    40% {\n",
              "      border-color: transparent;\n",
              "      border-right-color: var(--fill-color);\n",
              "      border-top-color: var(--fill-color);\n",
              "    }\n",
              "    60% {\n",
              "      border-color: transparent;\n",
              "      border-right-color: var(--fill-color);\n",
              "    }\n",
              "    80% {\n",
              "      border-color: transparent;\n",
              "      border-right-color: var(--fill-color);\n",
              "      border-bottom-color: var(--fill-color);\n",
              "    }\n",
              "    90% {\n",
              "      border-color: transparent;\n",
              "      border-bottom-color: var(--fill-color);\n",
              "    }\n",
              "  }\n",
              "</style>\n",
              "\n",
              "  <script>\n",
              "    async function quickchart(key) {\n",
              "      const quickchartButtonEl =\n",
              "        document.querySelector('#' + key + ' button');\n",
              "      quickchartButtonEl.disabled = true;  // To prevent multiple clicks.\n",
              "      quickchartButtonEl.classList.add('colab-df-spinner');\n",
              "      try {\n",
              "        const charts = await google.colab.kernel.invokeFunction(\n",
              "            'suggestCharts', [key], {});\n",
              "      } catch (error) {\n",
              "        console.error('Error during call to suggestCharts:', error);\n",
              "      }\n",
              "      quickchartButtonEl.classList.remove('colab-df-spinner');\n",
              "      quickchartButtonEl.classList.add('colab-df-quickchart-complete');\n",
              "    }\n",
              "    (() => {\n",
              "      let quickchartButtonEl =\n",
              "        document.querySelector('#df-65affb4b-3808-4b7e-bf98-f33a5d355b9d button');\n",
              "      quickchartButtonEl.style.display =\n",
              "        google.colab.kernel.accessAllowed ? 'block' : 'none';\n",
              "    })();\n",
              "  </script>\n",
              "</div>\n",
              "\n",
              "    </div>\n",
              "  </div>\n"
            ],
            "text/plain": [
              "                                           video_str  \\\n",
              "0  John Jaso hits a home run for the Pittsburgh P...   \n",
              "1  A baseball player pitches the ball to a batter...   \n",
              "2  Sure, here's the summary of the video:\\n\\nA ba...   \n",
              "3  The batter hits the ball deep into right field...   \n",
              "4  Darvish throws a pitch to Semien, who hits the...   \n",
              "\n",
              "                                play_id  \\\n",
              "0  5b254850-9e14-48d2-8baf-c3e12ecbe68d   \n",
              "1  0110e760-5d49-4c53-ad29-e74c787c038d   \n",
              "2  3b9ecf94-e3fe-4d79-8b33-efe174dfa53e   \n",
              "3  bda1cb83-dca9-46b2-aaad-6c1f009cd51c   \n",
              "4  9f87e907-3c4f-4187-8fb0-d6784b3b1f1a   \n",
              "\n",
              "                                               title  ExitVelocity  \\\n",
              "0  John Jaso homers (6) on a fly ball to center f...         102.9   \n",
              "1  Evan Longoria homers (34) on a fly ball to lef...         103.1   \n",
              "2  Marwin Gonzalez homers (13) on a line drive to...         106.6   \n",
              "3  Eddie Rosario homers (10) on a fly ball to rig...          98.5   \n",
              "4  Marcus Semien homers (26) on a fly ball to lef...         106.0   \n",
              "\n",
              "   HitDistance  LaunchAngle  \\\n",
              "0        412.0         25.0   \n",
              "1        423.0         31.0   \n",
              "2        390.0         22.0   \n",
              "3        368.0         30.0   \n",
              "4        435.0         32.0   \n",
              "\n",
              "                                               video  id  \\\n",
              "0  https://sporty-clips.mlb.com/YjlLTlpfWGw0TUFRP...   1   \n",
              "1  https://sporty-clips.mlb.com/OHcxUXlfWGw0TUFRP...   2   \n",
              "2  https://sporty-clips.mlb.com/Mk9vbFBfWGw0TUFRP...   3   \n",
              "3  https://sporty-clips.mlb.com/ajlhWFpfWGw0TUFRP...   4   \n",
              "4  https://sporty-clips.mlb.com/bGUyNEdfWGw0TUFRP...   5   \n",
              "\n",
              "                                           embedding  \n",
              "0  [-0.012194664217531681, 0.1299474686384201, 0....  \n",
              "1  [-0.010519739240407944, 0.12226243317127228, -...  \n",
              "2  [0.0008175185066647828, 0.06740811467170715, 0...  \n",
              "3  [-0.014278078451752663, 0.09671445190906525, -...  \n",
              "4  [0.02905752696096897, 0.04107468202710152, -0....  "
            ]
          },
          "execution_count": 8,
          "metadata": {},
          "output_type": "execute_result"
        }
      ],
      "source": [
        "data_frame.head()"
      ]
    },
    {
      "cell_type": "code",
      "execution_count": 9,
      "id": "65U3Jm-wYX7d",
      "metadata": {
        "executionInfo": {
          "elapsed": 1074,
          "status": "ok",
          "timestamp": 1738665069942,
          "user": {
            "displayName": "",
            "userId": ""
          },
          "user_tz": -180
        },
        "id": "65U3Jm-wYX7d"
      },
      "outputs": [],
      "source": [
        "jsonl_string = data_frame[[\"id\", \"play_id\",\"ExitVelocity\",\"HitDistance\",\"LaunchAngle\",\"title\",\"video\",\"video_str\",\"embedding\"]].to_json(orient=\"records\", lines=True)\n",
        "\n",
        "with open(\"candidates.json\", \"w\") as f:\n",
        "    f.write(jsonl_string)"
      ]
    },
    {
      "cell_type": "code",
      "execution_count": 13,
      "id": "hRGjbMpbbLEz",
      "metadata": {
        "colab": {
          "base_uri": "https://localhost:8080/"
        },
        "executionInfo": {
          "elapsed": 2067,
          "status": "ok",
          "timestamp": 1738665212112,
          "user": {
            "displayName": "",
            "userId": ""
          },
          "user_tz": -180
        },
        "id": "hRGjbMpbbLEz",
        "outputId": "6daaea28-f4c5-414f-c057-2cb77338ce05"
      },
      "outputs": [
        {
          "name": "stdout",
          "output_type": "stream",
          "text": [
            "Copying file://candidates.json [Content-Type=application/json]...\n",
            "/ [1 files][  1.0 MiB/  1.0 MiB]                                                \n",
            "Operation completed over 1 objects/1.0 MiB.                                      \n"
          ]
        }
      ],
      "source": [
        "BUCKET_URI = f\"bucket uri\"\n",
        "! gsutil cp candidates.json {BUCKET_URI}"
      ]
    },
    {
      "cell_type": "code",
      "execution_count": 11,
      "id": "FH--TkXnee5n",
      "metadata": {
        "executionInfo": {
          "elapsed": 449,
          "status": "ok",
          "timestamp": 1738665099787,
          "user": {
            "displayName": "",
            "userId": ""
          },
          "user_tz": -180
        },
        "id": "FH--TkXnee5n"
      },
      "outputs": [],
      "source": [
        "from google.cloud import aiplatform\n",
        "\n",
        "vertexai.init(project=\"project ID\" , location=\"Project Location\")"
      ]
    },
    {
      "cell_type": "code",
      "execution_count": 14,
      "id": "Bfc1s-zEetNR",
      "metadata": {
        "colab": {
          "base_uri": "https://localhost:8080/"
        },
        "executionInfo": {
          "elapsed": 177239,
          "status": "ok",
          "timestamp": 1738665523579,
          "user": {
            "displayName": "",
            "userId": ""
          },
          "user_tz": -180
        },
        "id": "Bfc1s-zEetNR",
        "outputId": "168f6ce0-862c-4c7e-b1b2-58cd315d1bcd"
      },
      "outputs": [
        {
          "name": "stderr",
          "output_type": "stream",
          "text": [
            "INFO:google.cloud.aiplatform.matching_engine.matching_engine_index:Creating MatchingEngineIndex\n",
            "INFO:google.cloud.aiplatform.matching_engine.matching_engine_index:Create MatchingEngineIndex backing LRO: projects/116334440043/locations/us-central1/indexes/4759385614409793536/operations/3263695654811074560\n",
            "INFO:google.cloud.aiplatform.matching_engine.matching_engine_index:MatchingEngineIndex created. Resource name: projects/116334440043/locations/us-central1/indexes/4759385614409793536\n",
            "INFO:google.cloud.aiplatform.matching_engine.matching_engine_index:To use this MatchingEngineIndex in another session:\n",
            "INFO:google.cloud.aiplatform.matching_engine.matching_engine_index:index = aiplatform.MatchingEngineIndex('projects/116334440043/locations/us-central1/indexes/4759385614409793536')\n"
          ]
        }
      ],
      "source": [
        "my_index = aiplatform.MatchingEngineIndex.create_tree_ah_index(\n",
        "    display_name=f\"display_name\",\n",
        "    contents_delta_uri=BUCKET_URI,\n",
        "    dimensions=768,\n",
        "    approximate_neighbors_count=5,\n",
        "    distance_measure_type=\"DOT_PRODUCT_DISTANCE\",\n",
        ")"
      ]
    },
    {
      "cell_type": "code",
      "execution_count": 15,
      "id": "w49EmeEofa0v",
      "metadata": {
        "executionInfo": {
          "elapsed": 517,
          "status": "ok",
          "timestamp": 1738665659528,
          "user": {
            "displayName": "",
            "userId": ""
          },
          "user_tz": -180
        },
        "id": "w49EmeEofa0v"
      },
      "outputs": [],
      "source": [
        "my_index_id = \"index id\"\n",
        "my_index = aiplatform.MatchingEngineIndex(my_index_id)"
      ]
    },
    {
      "cell_type": "code",
      "execution_count": 16,
      "id": "YeCtBii-fit6",
      "metadata": {
        "colab": {
          "base_uri": "https://localhost:8080/"
        },
        "executionInfo": {
          "elapsed": 5841,
          "status": "ok",
          "timestamp": 1738665670765,
          "user": {
            "displayName": "",
            "userId": ""
          },
          "user_tz": -180
        },
        "id": "YeCtBii-fit6",
        "outputId": "c9c4ca99-7872-4fca-f342-0f93dafe2228"
      },
      "outputs": [
        {
          "name": "stderr",
          "output_type": "stream",
          "text": [
            "INFO:google.cloud.aiplatform.matching_engine.matching_engine_index_endpoint:Creating MatchingEngineIndexEndpoint\n",
            "INFO:google.cloud.aiplatform.matching_engine.matching_engine_index_endpoint:Create MatchingEngineIndexEndpoint backing LRO: projects/116334440043/locations/us-central1/indexEndpoints/381359011024338944/operations/3389796444377448448\n",
            "INFO:google.cloud.aiplatform.matching_engine.matching_engine_index_endpoint:MatchingEngineIndexEndpoint created. Resource name: projects/116334440043/locations/us-central1/indexEndpoints/381359011024338944\n",
            "INFO:google.cloud.aiplatform.matching_engine.matching_engine_index_endpoint:To use this MatchingEngineIndexEndpoint in another session:\n",
            "INFO:google.cloud.aiplatform.matching_engine.matching_engine_index_endpoint:index_endpoint = aiplatform.MatchingEngineIndexEndpoint('projects/116334440043/locations/us-central1/indexEndpoints/381359011024338944')\n"
          ]
        }
      ],
      "source": [
        "index_endpoint = aiplatform.MatchingEngineIndexEndpoint.create(\n",
        "    display_name=f\"endpoint name\",\n",
        "    public_endpoint_enabled=True\n",
        ")\n",
        "\n",
        "\n"
      ]
    },
    {
      "cell_type": "code",
      "execution_count": 17,
      "id": "q8z6CNLvhP-L",
      "metadata": {
        "colab": {
          "base_uri": "https://localhost:8080/"
        },
        "executionInfo": {
          "elapsed": 2155876,
          "status": "ok",
          "timestamp": 1738667833412,
          "user": {
            "displayName": "",
            "userId": ""
          },
          "user_tz": -180
        },
        "id": "q8z6CNLvhP-L",
        "outputId": "cc349aea-58c7-48ce-9210-64ee14c2c0fe"
      },
      "outputs": [
        {
          "name": "stderr",
          "output_type": "stream",
          "text": [
            "INFO:google.cloud.aiplatform.matching_engine.matching_engine_index_endpoint:Deploying index MatchingEngineIndexEndpoint index_endpoint: projects/116334440043/locations/us-central1/indexEndpoints/381359011024338944\n",
            "INFO:google.cloud.aiplatform.matching_engine.matching_engine_index_endpoint:Deploy index MatchingEngineIndexEndpoint index_endpoint backing LRO: projects/116334440043/locations/us-central1/indexEndpoints/381359011024338944/operations/7343956917208743936\n",
            "INFO:google.cloud.aiplatform.matching_engine.matching_engine_index_endpoint:MatchingEngineIndexEndpoint index_endpoint Deployed index. Resource name: projects/116334440043/locations/us-central1/indexEndpoints/381359011024338944\n"
          ]
        },
        {
          "data": {
            "text/plain": [
              "<google.cloud.aiplatform.matching_engine.matching_engine_index_endpoint.MatchingEngineIndexEndpoint object at 0x78a91c758e80> \n",
              "resource name: projects/116334440043/locations/us-central1/indexEndpoints/381359011024338944"
            ]
          },
          "execution_count": 17,
          "metadata": {},
          "output_type": "execute_result"
        }
      ],
      "source": [
        "DEPLOYED_INDEX_ID = f\"dep_index\"\n",
        "index_endpoint.deploy_index(index=my_index, deployed_index_id=DEPLOYED_INDEX_ID,min_replica_count=1)"
      ]
    },
    {
      "cell_type": "code",
      "execution_count": 19,
      "id": "V70-41uwvJnW",
      "metadata": {
        "colab": {
          "base_uri": "https://localhost:8080/"
        },
        "executionInfo": {
          "elapsed": 12556,
          "status": "ok",
          "timestamp": 1738669622937,
          "user": {
            "displayName": "",
            "userId": ""
          },
          "user_tz": -180
        },
        "id": "V70-41uwvJnW",
        "outputId": "04e9a649-c4a4-4251-ef2e-f8d691caf607"
      },
      "outputs": [
        {
          "name": "stderr",
          "output_type": "stream",
          "text": [
            "100%|██████████| 1/1 [00:12<00:00, 12.12s/it]\n"
          ]
        }
      ],
      "source": [
        "user_prompt = \"I am looking for exiting match\"\n",
        "test_embeddings = get_embeddings_wrapper([user_prompt])\n",
        "\n",
        "new_index_endpoint = aiplatform.MatchingEngineIndexEndpoint(\"index enpoint\")\n",
        "response = index_endpoint.find_neighbors(\n",
        "    deployed_index_id=DEPLOYED_INDEX_ID,\n",
        "    queries=test_embeddings,\n",
        "    num_neighbors=5,\n",
        ")"
      ]
    },
    {
      "cell_type": "code",
      "execution_count": 20,
      "id": "yxy6wQcGwITG",
      "metadata": {
        "colab": {
          "base_uri": "https://localhost:8080/"
        },
        "executionInfo": {
          "elapsed": 426,
          "status": "ok",
          "timestamp": 1738669626486,
          "user": {
            "displayName": "",
            "userId": ""
          },
          "user_tz": -180
        },
        "id": "yxy6wQcGwITG",
        "outputId": "880810b7-15a1-42f1-e4c4-59517c66e1f4"
      },
      "outputs": [
        {
          "name": "stdout",
          "output_type": "stream",
          "text": [
            "0.4555 Joc Pederson homers (25) on a fly ball to right field.    Andrew Toles scores. https://sporty-clips.mlb.com/RzY4OUxfWGw0TUFRPT1fQVZVREJWVlZVbEVBQzFOWFVRQUFCZ0ZVQUFOUkJsTUFBRkVHQ1FvRENWQlhBZ3BX.mp4 106.8-398.0-23.0\n",
            "0.4354 Pedro Alvarez homers (22) on a fly ball to right field. https://sporty-clips.mlb.com/ekw2NVdfWGw0TUFRPT1fQmdoVkJsQU5CVmNBRGxGV1h3QUFCZ1JlQUFCUlZGRUFDZ1lCQWdJTkIxY0dCbEZT.mp4 101.8-405.0-28.0\n",
            "0.4334 Miguel Montero homers (7) on a fly ball to left field. https://sporty-clips.mlb.com/N1JEamJfWGw0TUFRPT1fVUFNRFZRRUFCRllBWEZNSFZ3QUFBZ1FEQUFOVFcxa0FWRkFBVWxJSFVGWlZWUVVF.mp4 97.9-364.0-35.0\n",
            "0.4266 Byron Buxton homers (8) on a fly ball to right center field. https://sporty-clips.mlb.com/WDJ4NWtfWGw0TUFRPT1fQXdWUUFWQU1Wd1FBRGxGWFZBQUFVQUJXQUFBTVVBQUFWMXdDQWdCVUJBZFdCd2Rl.mp4 104.4-418.0-28.0\n",
            "0.4230 David Ortiz homers (37) on a fly ball to right field.    Xander Bogaerts scores. https://sporty-clips.mlb.com/UGdiZWRfWGw0TUFRPT1fQlFaVVhBRUFWd3NBWEFFTFVRQUFWRlZlQUZrQ1VWRUFBVlpVQ1FRTkJsWlZWUWRT.mp4 106.6-411.0-35.0\n"
          ]
        }
      ],
      "source": [
        "import numpy as np\n",
        "\n",
        "for idx, neighbor in enumerate(response[0]):\n",
        "    id = np.int64(neighbor.id)\n",
        "    similar = data_frame.query(\"id == @id\", engine=\"python\")\n",
        "    print(f\"{neighbor.distance:.4f} {similar.title.values[0]} {similar.video.values[0]} {similar.ExitVelocity.values[0]}-{similar.HitDistance.values[0]}-{similar.LaunchAngle.values[0]}\")"
      ]
    }
  ],
  "metadata": {
    "colab": {
      "name": "Vector Search.ipynb",
      "provenance": []
    },
    "kernelspec": {
      "display_name": "Python 3",
      "language": "python",
      "name": "python3"
    },
    "language_info": {
      "codemirror_mode": {
        "name": "ipython",
        "version": 3
      },
      "file_extension": ".py",
      "mimetype": "text/x-python",
      "name": "python",
      "nbconvert_exporter": "python",
      "pygments_lexer": "ipython3",
      "version": "3.10.10"
    }
  },
  "nbformat": 4,
  "nbformat_minor": 5
}
