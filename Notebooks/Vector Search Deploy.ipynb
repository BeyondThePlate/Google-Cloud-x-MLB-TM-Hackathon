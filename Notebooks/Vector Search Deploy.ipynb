{
  "cells": [
    {
      "cell_type": "code",
      "execution_count": 12,
      "id": "DLpGXJuvr3qv",
      "metadata": {
        "colab": {
          "base_uri": "https://localhost:8080/",
          "height": 963
        },
        "executionInfo": {
          "elapsed": 5985,
          "status": "ok",
          "timestamp": 1738080755947,
          "user": {
            "displayName": "",
            "userId": ""
          },
          "user_tz": -180
        },
        "id": "DLpGXJuvr3qv",
        "outputId": "3677e431-71d3-4b65-f58d-e93079c96c68"
      },
      "outputs": [
        {
          "name": "stdout",
          "output_type": "stream",
          "text": [
            "Collecting cloud-sql-python-connector[pymysql]\n",
            "  Downloading cloud_sql_python_connector-1.16.0-py2.py3-none-any.whl.metadata (30 kB)\n",
            "Collecting aiofiles (from cloud-sql-python-connector[pymysql])\n",
            "  Downloading aiofiles-24.1.0-py3-none-any.whl.metadata (10 kB)\n",
            "Requirement already satisfied: aiohttp in /usr/local/lib/python3.10/dist-packages (from cloud-sql-python-connector[pymysql]) (3.11.11)\n",
            "Requirement already satisfied: cryptography>=42.0.0 in /usr/local/lib/python3.10/dist-packages (from cloud-sql-python-connector[pymysql]) (43.0.3)\n",
            "Collecting dnspython>=2.0.0 (from cloud-sql-python-connector[pymysql])\n",
            "  Downloading dnspython-2.7.0-py3-none-any.whl.metadata (5.8 kB)\n",
            "Requirement already satisfied: Requests in /usr/local/lib/python3.10/dist-packages (from cloud-sql-python-connector[pymysql]) (2.32.3)\n",
            "Collecting google-auth>=2.28.0 (from cloud-sql-python-connector[pymysql])\n",
            "  Downloading google_auth-2.38.0-py2.py3-none-any.whl.metadata (4.8 kB)\n",
            "Collecting PyMySQL>=1.1.0 (from cloud-sql-python-connector[pymysql])\n",
            "  Downloading PyMySQL-1.1.1-py3-none-any.whl.metadata (4.4 kB)\n",
            "Requirement already satisfied: cffi>=1.12 in /usr/local/lib/python3.10/dist-packages (from cryptography>=42.0.0->cloud-sql-python-connector[pymysql]) (1.17.1)\n",
            "Requirement already satisfied: cachetools<6.0,>=2.0.0 in /usr/local/lib/python3.10/dist-packages (from google-auth>=2.28.0->cloud-sql-python-connector[pymysql]) (5.5.0)\n",
            "Requirement already satisfied: pyasn1-modules>=0.2.1 in /usr/local/lib/python3.10/dist-packages (from google-auth>=2.28.0->cloud-sql-python-connector[pymysql]) (0.4.1)\n",
            "Requirement already satisfied: rsa<5,>=3.1.4 in /usr/local/lib/python3.10/dist-packages (from google-auth>=2.28.0->cloud-sql-python-connector[pymysql]) (4.9)\n",
            "Requirement already satisfied: aiohappyeyeballs>=2.3.0 in /usr/local/lib/python3.10/dist-packages (from aiohttp->cloud-sql-python-connector[pymysql]) (2.4.4)\n",
            "Requirement already satisfied: aiosignal>=1.1.2 in /usr/local/lib/python3.10/dist-packages (from aiohttp->cloud-sql-python-connector[pymysql]) (1.3.2)\n",
            "Requirement already satisfied: async-timeout<6.0,>=4.0 in /usr/local/lib/python3.10/dist-packages (from aiohttp->cloud-sql-python-connector[pymysql]) (4.0.3)\n",
            "Requirement already satisfied: attrs>=17.3.0 in /usr/local/lib/python3.10/dist-packages (from aiohttp->cloud-sql-python-connector[pymysql]) (24.3.0)\n",
            "Requirement already satisfied: frozenlist>=1.1.1 in /usr/local/lib/python3.10/dist-packages (from aiohttp->cloud-sql-python-connector[pymysql]) (1.5.0)\n",
            "Requirement already satisfied: multidict<7.0,>=4.5 in /usr/local/lib/python3.10/dist-packages (from aiohttp->cloud-sql-python-connector[pymysql]) (6.1.0)\n",
            "Requirement already satisfied: propcache>=0.2.0 in /usr/local/lib/python3.10/dist-packages (from aiohttp->cloud-sql-python-connector[pymysql]) (0.2.1)\n",
            "Requirement already satisfied: yarl<2.0,>=1.17.0 in /usr/local/lib/python3.10/dist-packages (from aiohttp->cloud-sql-python-connector[pymysql]) (1.18.3)\n",
            "Requirement already satisfied: charset-normalizer<4,>=2 in /usr/local/lib/python3.10/dist-packages (from Requests->cloud-sql-python-connector[pymysql]) (3.4.1)\n",
            "Requirement already satisfied: idna<4,>=2.5 in /usr/local/lib/python3.10/dist-packages (from Requests->cloud-sql-python-connector[pymysql]) (3.10)\n",
            "Requirement already satisfied: urllib3<3,>=1.21.1 in /usr/local/lib/python3.10/dist-packages (from Requests->cloud-sql-python-connector[pymysql]) (2.3.0)\n",
            "Requirement already satisfied: certifi>=2017.4.17 in /usr/local/lib/python3.10/dist-packages (from Requests->cloud-sql-python-connector[pymysql]) (2024.12.14)\n",
            "Requirement already satisfied: pycparser in /usr/local/lib/python3.10/dist-packages (from cffi>=1.12->cryptography>=42.0.0->cloud-sql-python-connector[pymysql]) (2.22)\n",
            "Requirement already satisfied: typing-extensions>=4.1.0 in /usr/local/lib/python3.10/dist-packages (from multidict<7.0,>=4.5->aiohttp->cloud-sql-python-connector[pymysql]) (4.12.2)\n",
            "Requirement already satisfied: pyasn1<0.7.0,>=0.4.6 in /usr/local/lib/python3.10/dist-packages (from pyasn1-modules>=0.2.1->google-auth>=2.28.0->cloud-sql-python-connector[pymysql]) (0.6.1)\n",
            "Downloading dnspython-2.7.0-py3-none-any.whl (313 kB)\n",
            "\u001b[2K   \u001b[90m━━━━━━━━━━━━━━━━━━━━━━━━━━━━━━━━━━━━━━━━\u001b[0m \u001b[32m313.6/313.6 kB\u001b[0m \u001b[31m10.4 MB/s\u001b[0m eta \u001b[36m0:00:00\u001b[0m\n",
            "\u001b[?25hDownloading google_auth-2.38.0-py2.py3-none-any.whl (210 kB)\n",
            "\u001b[2K   \u001b[90m━━━━━━━━━━━━━━━━━━━━━━━━━━━━━━━━━━━━━━━━\u001b[0m \u001b[32m210.8/210.8 kB\u001b[0m \u001b[31m19.0 MB/s\u001b[0m eta \u001b[36m0:00:00\u001b[0m\n",
            "\u001b[?25hDownloading PyMySQL-1.1.1-py3-none-any.whl (44 kB)\n",
            "\u001b[2K   \u001b[90m━━━━━━━━━━━━━━━━━━━━━━━━━━━━━━━━━━━━━━━━\u001b[0m \u001b[32m45.0/45.0 kB\u001b[0m \u001b[31m4.1 MB/s\u001b[0m eta \u001b[36m0:00:00\u001b[0m\n",
            "\u001b[?25hDownloading aiofiles-24.1.0-py3-none-any.whl (15 kB)\n",
            "Downloading cloud_sql_python_connector-1.16.0-py2.py3-none-any.whl (45 kB)\n",
            "\u001b[2K   \u001b[90m━━━━━━━━━━━━━━━━━━━━━━━━━━━━━━━━━━━━━━━━\u001b[0m \u001b[32m45.9/45.9 kB\u001b[0m \u001b[31m3.4 MB/s\u001b[0m eta \u001b[36m0:00:00\u001b[0m\n",
            "\u001b[?25hInstalling collected packages: PyMySQL, dnspython, aiofiles, google-auth, cloud-sql-python-connector\n",
            "  Attempting uninstall: google-auth\n",
            "    Found existing installation: google-auth 2.27.0\n",
            "    Uninstalling google-auth-2.27.0:\n",
            "      Successfully uninstalled google-auth-2.27.0\n",
            "\u001b[31mERROR: pip's dependency resolver does not currently take into account all the packages that are installed. This behaviour is the source of the following dependency conflicts.\n",
            "google-colab 1.0.0 requires google-auth==2.27.0, but you have google-auth 2.38.0 which is incompatible.\u001b[0m\u001b[31m\n",
            "\u001b[0mSuccessfully installed PyMySQL-1.1.1 aiofiles-24.1.0 cloud-sql-python-connector-1.16.0 dnspython-2.7.0 google-auth-2.38.0\n"
          ]
        },
        {
          "data": {
            "application/vnd.colab-display-data+json": {
              "id": "e1f9e287f93546148e3eab9e1c0181d1",
              "pip_warning": {
                "packages": [
                  "google"
                ]
              }
            }
          },
          "metadata": {},
          "output_type": "display_data"
        }
      ],
      "source": [
        "!pip install \"cloud-sql-python-connector[pymysql]\""
      ]
    },
    {
      "cell_type": "code",
      "execution_count": 13,
      "id": "EyQqR8qLes8OfQSBn4tL6UoT",
      "metadata": {
        "executionInfo": {
          "elapsed": 910,
          "status": "ok",
          "timestamp": 1738080756849,
          "user": {
            "displayName": "",
            "userId": ""
          },
          "user_tz": -180
        },
        "id": "EyQqR8qLes8OfQSBn4tL6UoT",
        "tags": []
      },
      "outputs": [],
      "source": [
        "from google.cloud import aiplatform\n",
        "from vertexai.preview.language_models import TextEmbeddingModel\n",
        "import tqdm,time\n",
        "from google.cloud.sql.connector import Connector\n",
        "import sqlalchemy"
      ]
    },
    {
      "cell_type": "code",
      "execution_count": 2,
      "id": "sFFwYwJoxxgU",
      "metadata": {
        "executionInfo": {
          "elapsed": 430,
          "status": "ok",
          "timestamp": 1738079138442,
          "user": {
            "displayName": "",
            "userId": ""
          },
          "user_tz": -180
        },
        "id": "sFFwYwJoxxgU"
      },
      "outputs": [],
      "source": [
        "PROJECT_ID = \"project id\"\n",
        "LOCATION = \"project-location\"\n",
        "\n",
        "aiplatform.init(project=PROJECT_ID,location=LOCATION)\n",
        "model = TextEmbeddingModel.from_pretrained(\"text-embedding-005\")\n",
        "\n",
        "def get_embeddings_wrapper(texts, batch_size=5):\n",
        "    embeddings = []\n",
        "    for i in tqdm.tqdm(range(0, len(texts), batch_size)):\n",
        "        time.sleep(1)\n",
        "        batch_texts = texts[i:i+batch_size]\n",
        "        batch_embeddings = model.get_embeddings(batch_texts)\n",
        "        embeddings.extend([embedding.values for embedding in batch_embeddings])\n",
        "    return embeddings\n"
      ]
    },
    {
      "cell_type": "code",
      "execution_count": 14,
      "id": "YnNg22iCq1V1",
      "metadata": {
        "executionInfo": {
          "elapsed": 384,
          "status": "ok",
          "timestamp": 1738080781118,
          "user": {
            "displayName": "",
            "userId": ""
          },
          "user_tz": -180
        },
        "id": "YnNg22iCq1V1"
      },
      "outputs": [],
      "source": [
        "def getconn():\n",
        "    connector = Connector()\n",
        "\n",
        "    conn= connector.connect(\n",
        "        \"connection name\",\n",
        "        \"pymysql\",\n",
        "        user=\"user\",\n",
        "        password=\"password\",\n",
        "        db=\"db name\"\n",
        "    )\n",
        "    return conn\n",
        "\n",
        "\n",
        "def get_pool():\n",
        "    pool = sqlalchemy.create_engine(\n",
        "       \"mysql+pymysql://\",\n",
        "        creator=getconn,\n",
        "    )\n",
        "    return pool"
      ]
    },
    {
      "cell_type": "code",
      "execution_count": 28,
      "id": "ey-_uyUgsdg7",
      "metadata": {
        "executionInfo": {
          "elapsed": 2,
          "status": "ok",
          "timestamp": 1738081216652,
          "user": {
            "displayName": "",
            "userId": ""
          },
          "user_tz": -180
        },
        "id": "ey-_uyUgsdg7"
      },
      "outputs": [],
      "source": [
        "def getItem(n):\n",
        "  pool = get_pool()\n",
        "  with pool.connect() as db_conn:\n",
        "    select_query = sqlalchemy.text(f\"\"\"SELECT *\n",
        "                    FROM home_run_data\n",
        "                    LIMIT 1 OFFSET {n};\"\"\")\n",
        "    result = db_conn.execute(select_query)\n",
        "    users = result.fetchone()\n",
        "    return users\n"
      ]
    },
    {
      "cell_type": "code",
      "execution_count": 3,
      "id": "7pPf_C6cyDpd",
      "metadata": {
        "executionInfo": {
          "elapsed": 3,
          "status": "ok",
          "timestamp": 1738079139658,
          "user": {
            "displayName": "",
            "userId": ""
          },
          "user_tz": -180
        },
        "id": "7pPf_C6cyDpd"
      },
      "outputs": [],
      "source": [
        "candidates_endpoint = aiplatform.MatchingEngineIndexEndpoint(\"index endpoint\")\n"
      ]
    },
    {
      "cell_type": "code",
      "execution_count": 45,
      "id": "Q_j4jRfzyVSb",
      "metadata": {
        "colab": {
          "base_uri": "https://localhost:8080/"
        },
        "executionInfo": {
          "elapsed": 1948,
          "status": "ok",
          "timestamp": 1738085714057,
          "user": {
            "displayName": "",
            "userId": ""
          },
          "user_tz": -180
        },
        "id": "Q_j4jRfzyVSb",
        "outputId": "6a8a9127-54b7-42e1-e3f6-11bd895f10aa"
      },
      "outputs": [
        {
          "name": "stderr",
          "output_type": "stream",
          "text": [
            "100%|██████████| 1/1 [00:01<00:00,  1.12s/it]\n"
          ]
        }
      ],
      "source": [
        "user_prompt = \"Let me watch some exiting matches\"\n",
        "\n",
        "input_embeddings = get_embeddings_wrapper([user_prompt])\n",
        "\n",
        "DEPLOYED_INDEX_ID = f\"deployed_index\"\n",
        "\n",
        "response = candidates_endpoint.find_neighbors(\n",
        "    deployed_index_id=DEPLOYED_INDEX_ID,\n",
        "    queries=input_embeddings,\n",
        "    num_neighbors=5,\n",
        ")"
      ]
    },
    {
      "cell_type": "code",
      "execution_count": 46,
      "id": "6UP7bbU5szo5",
      "metadata": {
        "colab": {
          "base_uri": "https://localhost:8080/"
        },
        "executionInfo": {
          "elapsed": 1573,
          "status": "ok",
          "timestamp": 1738085722404,
          "user": {
            "displayName": "",
            "userId": ""
          },
          "user_tz": -180
        },
        "id": "6UP7bbU5szo5",
        "outputId": "eb5b1ada-9283-4fe5-b4be-58832e4d9c9f"
      },
      "outputs": [
        {
          "name": "stdout",
          "output_type": "stream",
          "text": [
            "('7dba1a4c-31e7-4772-bde2-2439968c2280', 'Joc Pederson homers (25) on a fly ball to right field.    Andrew Toles scores.', 106.8, 398.0, 23.0, 'https://sporty-clips.mlb.com/RzY4OUxfWGw0TUFRPT1fQVZVREJWVlZVbEVBQzFOWFVRQUFCZ0ZVQUFOUkJsTUFBRkVHQ1FvRENWQlhBZ3BX.mp4\\r')\n",
            "('3b9ecf94-e3fe-4d79-8b33-efe174dfa53e', 'Marwin Gonzalez homers (13) on a line drive to right field.', 106.6, 390.0, 22.0, 'https://sporty-clips.mlb.com/Mk9vbFBfWGw0TUFRPT1fQlZOWUFRZFNYd1lBWFZGVUF3QUFWUUZmQUZsWFVGSUFWd05RQVFRQlZWVUVCUUVE.mp4\\r')\n",
            "('279c99a0-9137-4400-b584-5cff70b4003e', 'Justin Morneau homers (6) on a fly ball to right field.    Jose Abreu scores.', 96.1, 368.0, 37.0, 'https://sporty-clips.mlb.com/OTlxb2pfWGw0TUFRPT1fQkFaWUIxME5Cd0lBQVZNQlVRQUFCUVpXQUFNQVcxVUFCd1pUVmdRRlV3ZFZBQUVE.mp4\\r')\n",
            "('c8265331-1a15-45e8-a0ad-0b84117d0202', 'Curtis Granderson homers (28) on a fly ball to right field.', 98.3, 349.0, 30.0, 'https://sporty-clips.mlb.com/ajlhWFpfWGw0TUFRPT1fVlFsVFVsRUhWUU1BQ1FNRFV3QUFCRk5lQUFBRkFnVUFBZ2NOQkFJRUJsZFZBZ0pV.mp4\\r')\n",
            "('094b49ce-63d9-4728-ad70-8c42186dc6c4', 'Pedro Alvarez homers (22) on a fly ball to right field.', 101.8, 405.0, 28.0, 'https://sporty-clips.mlb.com/ekw2NVdfWGw0TUFRPT1fQmdoVkJsQU5CVmNBRGxGV1h3QUFCZ1JlQUFCUlZGRUFDZ1lCQWdJTkIxY0dCbEZT.mp4\\r')\n"
          ]
        }
      ],
      "source": [
        "for item in response[0]:\n",
        "  print(getItem(item.id))"
      ]
    },
    {
      "cell_type": "code",
      "execution_count": 37,
      "id": "gypI1KPuy5FG",
      "metadata": {
        "colab": {
          "base_uri": "https://localhost:8080/",
          "height": 35
        },
        "executionInfo": {
          "elapsed": 8,
          "status": "ok",
          "timestamp": 1738085453661,
          "user": {
            "displayName": "",
            "userId": ""
          },
          "user_tz": -180
        },
        "id": "gypI1KPuy5FG",
        "outputId": "f7e00352-cfdd-49c0-ae70-5d431561245c"
      },
      "outputs": [
        {
          "data": {
            "application/vnd.google.colaboratory.intrinsic+json": {
              "type": "string"
            },
            "text/plain": [
              "'1'"
            ]
          },
          "execution_count": 37,
          "metadata": {},
          "output_type": "execute_result"
        }
      ],
      "source": []
    }
  ],
  "metadata": {
    "colab": {
      "name": "Vector Search Deploy",
      "provenance": []
    },
    "kernelspec": {
      "display_name": "Python 3",
      "language": "python",
      "name": "python3"
    },
    "language_info": {
      "codemirror_mode": {
        "name": "ipython",
        "version": 3
      },
      "file_extension": ".py",
      "mimetype": "text/x-python",
      "name": "python",
      "nbconvert_exporter": "python",
      "pygments_lexer": "ipython3",
      "version": "3.10.10"
    }
  },
  "nbformat": 4,
  "nbformat_minor": 5
}
